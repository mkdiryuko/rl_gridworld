{
 "cells": [
  {
   "cell_type": "code",
   "execution_count": 79,
   "id": "0740cf66",
   "metadata": {},
   "outputs": [
    {
     "name": "stdout",
     "output_type": "stream",
     "text": [
      "3\n",
      "3\n",
      "(3, 3)\n"
     ]
    }
   ],
   "source": [
    "import numpy as np\n",
    "\n",
    "class GridWorld:\n",
    "    def __init__(self):\n",
    "        self.action_space = [0, 1, 2, 3]\n",
    "        self.action_meaning = {\n",
    "            0: \"UP\",\n",
    "            1: \"DOWN\",\n",
    "            2: \"LEFT\",\n",
    "            3: \"RIGHT\",\n",
    "        }\n",
    "        \n",
    "        self.reward_map = np.array(\n",
    "            [[0, 0, 1.0],\n",
    "             [0, 0, 0],\n",
    "             [0, 0.,0]]\n",
    "        )\n",
    "        self.reward_apple = 1.0\n",
    "        self.goal_state = (0, 2)\n",
    "        self.start_state = (2, 0)\n",
    "        self.agent_state = self.start_state\n",
    "        \n",
    "        while True:\n",
    "            self.row_index = np.random.randint(0, map.shape[0])\n",
    "            self.col_index = np.random.randint(0, map.shape[1])\n",
    "            if self.row_index == self.goal_state[0] and  self.col_index == self.goal_state[1]: # リンゴの位置はgoalの座標ではないか？\n",
    "                continue\n",
    "            elif self.row_index == self.start_state[0] and  self.col_index == self.start_state[1]:# リンゴの位置はstartの座標ではないか？\n",
    "                continue\n",
    "            else:\n",
    "                break\n",
    "        self.reward_map[self.row_index, self.col_index] = self.reward_apple\n",
    "        \n",
    "    @property\n",
    "    def height(self):\n",
    "        return len(self.reward_map)\n",
    "        \n",
    "    @property\n",
    "    def width(self):\n",
    "        return len(self.reward_map[0])\n",
    "        \n",
    "    @property\n",
    "    def shape(self):\n",
    "        return self.reward_map.shape\n",
    "        \n",
    "    def action(self):\n",
    "        return self.action_space # [0, 1, 2, 3]\n",
    "        \n",
    "    def states(self):\n",
    "        for h in range(self.height):\n",
    "             for w in range(self.width):\n",
    "                yield(h, w)\n",
    "\n",
    "env = GridWorld()\n",
    "print(env.height)\n",
    "print(env.width)\n",
    "print(env.shape)"
   ]
  },
  {
   "cell_type": "code",
   "execution_count": 74,
   "id": "e53ea143",
   "metadata": {},
   "outputs": [
    {
     "name": "stdout",
     "output_type": "stream",
     "text": [
      "ランダムに選んだ座標： (0, 0)\n",
      "[[1. 0. 1.]\n",
      " [0. 0. 0.]\n",
      " [0. 0. 0.]]\n"
     ]
    }
   ],
   "source": [
    "import numpy as np\n",
    "map = np.array(\n",
    "    [[0, 0, 1.0],\n",
    "     [0, 0, 0],\n",
    "     [0, 0.,0],\n",
    "    ]\n",
    ")\n",
    "\n",
    "goal_state = (0, 2)\n",
    "start_state = (2, 0)\n",
    "\n",
    "# print(map.shape[0]) # 行の数\n",
    "# print(map.shape[1]) # 列の数\n",
    "\n",
    "# ランダムな位置を選択\n",
    "while True:\n",
    "    row_index = np.random.randint(0, map.shape[0]) # map.shape[0] 行数\n",
    "    col_index = np.random.randint(0, map.shape[1]) # map.shape[1] 列数\n",
    "    random_index = (row_index, col_index)\n",
    "    print(\"ランダムに選んだ座標：\", random_index)\n",
    "    if random_index[0] == goal_state[0] and  random_index[1] == goal_state[1]:\n",
    "        continue\n",
    "        # print('ゴールの座標が選ばれました。座標を選び直します。')\n",
    "    elif random_index[0] == start_state[0] and  random_index[1] == start_state[1]:\n",
    "        continue\n",
    "        # print(\"スタートの座標が選ばれました。座標を選び直します。\")\n",
    "    else:\n",
    "        # print('ゴールまたはスタートの座標ではありません。ループを抜けます。')\n",
    "        break\n",
    "    \n",
    "# ランダムな値を生成して要素に挿入\n",
    "map[row_index, col_index] = 1.0\n",
    "\n",
    "# 結果を表示\n",
    "print(map)\n"
   ]
  },
  {
   "cell_type": "code",
   "execution_count": 48,
   "id": "05eedaeb",
   "metadata": {},
   "outputs": [
    {
     "name": "stdout",
     "output_type": "stream",
     "text": [
      "True\n"
     ]
    }
   ],
   "source": [
    "i = 0\n",
    "# while i < 3:\n",
    "#     x = np.random.randint(0, 5)\n",
    "#     if x == 1:\n",
    "#         print(\"繰り返しを終了します\")\n",
    "#         break\n",
    "#     else:\n",
    "#         print(x)\n",
    "#     i += 1\n",
    "\n",
    "\n",
    "# for i in range(10):\n",
    "#     x = np.random.randint(0, 5)\n",
    "#     if x == 1:\n",
    "#         print(\"x = 1です。繰り返しを終了します\")\n",
    "#         break\n",
    "#     else:\n",
    "#         print(x)\n",
    "\n",
    "a = (1, 2)\n",
    "b = (1, 2)\n",
    "if a[0] == b[0] and a[1] == b[1]:\n",
    "    print(\"True\")\n",
    "else:\n",
    "    print(\"False\")"
   ]
  }
 ],
 "metadata": {
  "kernelspec": {
   "display_name": "Python 3 (ipykernel)",
   "language": "python",
   "name": "python3"
  },
  "language_info": {
   "codemirror_mode": {
    "name": "ipython",
    "version": 3
   },
   "file_extension": ".py",
   "mimetype": "text/x-python",
   "name": "python",
   "nbconvert_exporter": "python",
   "pygments_lexer": "ipython3",
   "version": "3.10.11"
  }
 },
 "nbformat": 4,
 "nbformat_minor": 5
}
